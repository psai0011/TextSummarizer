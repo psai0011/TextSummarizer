{
 "cells": [
  {
   "cell_type": "code",
   "execution_count": 1,
   "id": "478ed37f",
   "metadata": {},
   "outputs": [
    {
     "data": {
      "text/plain": [
       "3"
      ]
     },
     "execution_count": 1,
     "metadata": {},
     "output_type": "execute_result"
    }
   ],
   "source": [
    "1 + 2"
   ]
  },
  {
   "cell_type": "code",
   "execution_count": 2,
   "id": "c5fd4c2b",
   "metadata": {},
   "outputs": [
    {
     "data": {
      "text/plain": [
       "{'key1': 'krish', 'lastname': 'Naik'}"
      ]
     },
     "execution_count": 2,
     "metadata": {},
     "output_type": "execute_result"
    }
   ],
   "source": [
    "dict_info = {\"key1\": \"krish\", \"lastname\":\"Naik\"}\n",
    "dict_info"
   ]
  },
  {
   "cell_type": "code",
   "execution_count": 3,
   "id": "dae964fb",
   "metadata": {},
   "outputs": [
    {
     "ename": "AttributeError",
     "evalue": "'dict' object has no attribute 'name'",
     "output_type": "error",
     "traceback": [
      "\u001b[1;31m---------------------------------------------------------------------------\u001b[0m",
      "\u001b[1;31mAttributeError\u001b[0m                            Traceback (most recent call last)",
      "Cell \u001b[1;32mIn[3], line 1\u001b[0m\n\u001b[1;32m----> 1\u001b[0m dict_info\u001b[38;5;241m.\u001b[39mname\n",
      "\u001b[1;31mAttributeError\u001b[0m: 'dict' object has no attribute 'name'"
     ]
    }
   ],
   "source": [
    "\n",
    "dict_info.name\n"
   ]
  },
  {
   "cell_type": "code",
   "execution_count": 8,
   "id": "17472abf",
   "metadata": {},
   "outputs": [
    {
     "name": "stdout",
     "output_type": "stream",
     "text": [
      "Collecting python-box\n",
      "  Downloading python_box-7.3.2-cp312-cp312-win_amd64.whl.metadata (8.3 kB)\n",
      "Downloading python_box-7.3.2-cp312-cp312-win_amd64.whl (1.2 MB)\n",
      "   ---------------------------------------- 0.0/1.2 MB ? eta -:--:--\n",
      "   ----------------- ---------------------- 0.5/1.2 MB 8.5 MB/s eta 0:00:01\n",
      "   ---------------------------------- ----- 1.0/1.2 MB 3.9 MB/s eta 0:00:01\n",
      "   ---------------------------------------- 1.2/1.2 MB 3.2 MB/s eta 0:00:00\n",
      "Installing collected packages: python-box\n",
      "Successfully installed python-box-7.3.2\n",
      "Note: you may need to restart the kernel to use updated packages.\n"
     ]
    }
   ],
   "source": [
    "pip install python-box"
   ]
  },
  {
   "cell_type": "code",
   "execution_count": 10,
   "id": "c946ad5e",
   "metadata": {},
   "outputs": [
    {
     "data": {
      "text/plain": [
       "ConfigBox({'key1': 'krish', 'lastname': 'Naik'})"
      ]
     },
     "execution_count": 10,
     "metadata": {},
     "output_type": "execute_result"
    }
   ],
   "source": [
    "from box import ConfigBox\n",
    "dict_info = ConfigBox({\"key1\": \"krish\", \"lastname\":\"Naik\"})\n",
    "dict_info"
   ]
  },
  {
   "cell_type": "code",
   "execution_count": 13,
   "id": "70ecadec",
   "metadata": {},
   "outputs": [],
   "source": [
    "def multiplication(x:int, y:int)-> int:\n",
    "    return x*y"
   ]
  },
  {
   "cell_type": "code",
   "execution_count": 15,
   "id": "2ce06c7f",
   "metadata": {},
   "outputs": [
    {
     "data": {
      "text/plain": [
       "6"
      ]
     },
     "execution_count": 15,
     "metadata": {},
     "output_type": "execute_result"
    }
   ],
   "source": [
    "multiplication(2,3)"
   ]
  },
  {
   "cell_type": "code",
   "execution_count": 16,
   "id": "1589fb84",
   "metadata": {},
   "outputs": [
    {
     "data": {
      "text/plain": [
       "'33'"
      ]
     },
     "execution_count": 16,
     "metadata": {},
     "output_type": "execute_result"
    }
   ],
   "source": [
    "multiplication(2,\"3\")"
   ]
  },
  {
   "cell_type": "code",
   "execution_count": 19,
   "id": "d2f32aba",
   "metadata": {},
   "outputs": [],
   "source": [
    "# from ensure import ensure_annotations\n",
    "\n",
    "# @ensure_annotations\n",
    "# def multiplication(x:int, y:int)-> int:\n",
    "#     return x * y"
   ]
  },
  {
   "cell_type": "code",
   "execution_count": null,
   "id": "63ef8d3c",
   "metadata": {},
   "outputs": [],
   "source": []
  },
  {
   "cell_type": "code",
   "execution_count": null,
   "id": "061c6dd5",
   "metadata": {},
   "outputs": [],
   "source": []
  }
 ],
 "metadata": {
  "kernelspec": {
   "display_name": "base",
   "language": "python",
   "name": "python3"
  },
  "language_info": {
   "codemirror_mode": {
    "name": "ipython",
    "version": 3
   },
   "file_extension": ".py",
   "mimetype": "text/x-python",
   "name": "python",
   "nbconvert_exporter": "python",
   "pygments_lexer": "ipython3",
   "version": "3.12.7"
  }
 },
 "nbformat": 4,
 "nbformat_minor": 5
}
